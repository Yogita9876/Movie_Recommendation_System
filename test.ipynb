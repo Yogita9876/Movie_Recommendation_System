{
 "cells": [
  {
   "cell_type": "code",
   "execution_count": 1,
   "metadata": {},
   "outputs": [],
   "source": [
    "import pandas as pd\n",
    "data = pd.read_csv('data/movies.csv')"
   ]
  },
  {
   "cell_type": "code",
   "execution_count": 2,
   "metadata": {},
   "outputs": [
    {
     "data": {
      "text/html": [
       "<div>\n",
       "<style scoped>\n",
       "    .dataframe tbody tr th:only-of-type {\n",
       "        vertical-align: middle;\n",
       "    }\n",
       "\n",
       "    .dataframe tbody tr th {\n",
       "        vertical-align: top;\n",
       "    }\n",
       "\n",
       "    .dataframe thead th {\n",
       "        text-align: right;\n",
       "    }\n",
       "</style>\n",
       "<table border=\"1\" class=\"dataframe\">\n",
       "  <thead>\n",
       "    <tr style=\"text-align: right;\">\n",
       "      <th></th>\n",
       "      <th>movie_id</th>\n",
       "      <th>title</th>\n",
       "      <th>release_date</th>\n",
       "      <th>overview</th>\n",
       "      <th>rating</th>\n",
       "      <th>votes</th>\n",
       "      <th>genres</th>\n",
       "      <th>popularity</th>\n",
       "    </tr>\n",
       "  </thead>\n",
       "  <tbody>\n",
       "    <tr>\n",
       "      <th>0</th>\n",
       "      <td>1184918</td>\n",
       "      <td>The Wild Robot</td>\n",
       "      <td>2024-09-12</td>\n",
       "      <td>After a shipwreck, an intelligent robot called...</td>\n",
       "      <td>8.633</td>\n",
       "      <td>1492</td>\n",
       "      <td>[16, 878, 10751]</td>\n",
       "      <td>4950.682</td>\n",
       "    </tr>\n",
       "    <tr>\n",
       "      <th>1</th>\n",
       "      <td>945961</td>\n",
       "      <td>Alien: Romulus</td>\n",
       "      <td>2024-08-13</td>\n",
       "      <td>While scavenging the deep ends of a derelict s...</td>\n",
       "      <td>7.267</td>\n",
       "      <td>1868</td>\n",
       "      <td>[878, 27]</td>\n",
       "      <td>2982.392</td>\n",
       "    </tr>\n",
       "    <tr>\n",
       "      <th>2</th>\n",
       "      <td>933260</td>\n",
       "      <td>The Substance</td>\n",
       "      <td>2024-09-07</td>\n",
       "      <td>A fading celebrity decides to use a black mark...</td>\n",
       "      <td>7.277</td>\n",
       "      <td>880</td>\n",
       "      <td>[27, 18, 878]</td>\n",
       "      <td>2641.055</td>\n",
       "    </tr>\n",
       "    <tr>\n",
       "      <th>3</th>\n",
       "      <td>533535</td>\n",
       "      <td>Deadpool &amp; Wolverine</td>\n",
       "      <td>2024-07-24</td>\n",
       "      <td>A listless Wade Wilson toils away in civilian ...</td>\n",
       "      <td>7.700</td>\n",
       "      <td>4793</td>\n",
       "      <td>[28, 35, 878]</td>\n",
       "      <td>1975.796</td>\n",
       "    </tr>\n",
       "    <tr>\n",
       "      <th>4</th>\n",
       "      <td>1034541</td>\n",
       "      <td>Terrifier 3</td>\n",
       "      <td>2024-10-09</td>\n",
       "      <td>Five years after surviving Art the Clown's Hal...</td>\n",
       "      <td>7.309</td>\n",
       "      <td>162</td>\n",
       "      <td>[27, 53]</td>\n",
       "      <td>1760.315</td>\n",
       "    </tr>\n",
       "  </tbody>\n",
       "</table>\n",
       "</div>"
      ],
      "text/plain": [
       "   movie_id                 title release_date  \\\n",
       "0   1184918        The Wild Robot   2024-09-12   \n",
       "1    945961        Alien: Romulus   2024-08-13   \n",
       "2    933260         The Substance   2024-09-07   \n",
       "3    533535  Deadpool & Wolverine   2024-07-24   \n",
       "4   1034541           Terrifier 3   2024-10-09   \n",
       "\n",
       "                                            overview  rating  votes  \\\n",
       "0  After a shipwreck, an intelligent robot called...   8.633   1492   \n",
       "1  While scavenging the deep ends of a derelict s...   7.267   1868   \n",
       "2  A fading celebrity decides to use a black mark...   7.277    880   \n",
       "3  A listless Wade Wilson toils away in civilian ...   7.700   4793   \n",
       "4  Five years after surviving Art the Clown's Hal...   7.309    162   \n",
       "\n",
       "             genres  popularity  \n",
       "0  [16, 878, 10751]    4950.682  \n",
       "1         [878, 27]    2982.392  \n",
       "2     [27, 18, 878]    2641.055  \n",
       "3     [28, 35, 878]    1975.796  \n",
       "4          [27, 53]    1760.315  "
      ]
     },
     "execution_count": 2,
     "metadata": {},
     "output_type": "execute_result"
    }
   ],
   "source": [
    "data.head()"
   ]
  },
  {
   "cell_type": "code",
   "execution_count": 3,
   "metadata": {},
   "outputs": [],
   "source": [
    "data['movie_title'] = data['title'].str.lower().str.replace(' ', '-')\n"
   ]
  },
  {
   "cell_type": "code",
   "execution_count": 4,
   "metadata": {},
   "outputs": [
    {
     "data": {
      "text/html": [
       "<div>\n",
       "<style scoped>\n",
       "    .dataframe tbody tr th:only-of-type {\n",
       "        vertical-align: middle;\n",
       "    }\n",
       "\n",
       "    .dataframe tbody tr th {\n",
       "        vertical-align: top;\n",
       "    }\n",
       "\n",
       "    .dataframe thead th {\n",
       "        text-align: right;\n",
       "    }\n",
       "</style>\n",
       "<table border=\"1\" class=\"dataframe\">\n",
       "  <thead>\n",
       "    <tr style=\"text-align: right;\">\n",
       "      <th></th>\n",
       "      <th>movie_id</th>\n",
       "      <th>title</th>\n",
       "      <th>release_date</th>\n",
       "      <th>overview</th>\n",
       "      <th>rating</th>\n",
       "      <th>votes</th>\n",
       "      <th>genres</th>\n",
       "      <th>popularity</th>\n",
       "      <th>movie_title</th>\n",
       "    </tr>\n",
       "  </thead>\n",
       "  <tbody>\n",
       "    <tr>\n",
       "      <th>0</th>\n",
       "      <td>1184918</td>\n",
       "      <td>The Wild Robot</td>\n",
       "      <td>2024-09-12</td>\n",
       "      <td>After a shipwreck, an intelligent robot called...</td>\n",
       "      <td>8.633</td>\n",
       "      <td>1492</td>\n",
       "      <td>[16, 878, 10751]</td>\n",
       "      <td>4950.682</td>\n",
       "      <td>the-wild-robot</td>\n",
       "    </tr>\n",
       "    <tr>\n",
       "      <th>1</th>\n",
       "      <td>945961</td>\n",
       "      <td>Alien: Romulus</td>\n",
       "      <td>2024-08-13</td>\n",
       "      <td>While scavenging the deep ends of a derelict s...</td>\n",
       "      <td>7.267</td>\n",
       "      <td>1868</td>\n",
       "      <td>[878, 27]</td>\n",
       "      <td>2982.392</td>\n",
       "      <td>alien:-romulus</td>\n",
       "    </tr>\n",
       "    <tr>\n",
       "      <th>2</th>\n",
       "      <td>933260</td>\n",
       "      <td>The Substance</td>\n",
       "      <td>2024-09-07</td>\n",
       "      <td>A fading celebrity decides to use a black mark...</td>\n",
       "      <td>7.277</td>\n",
       "      <td>880</td>\n",
       "      <td>[27, 18, 878]</td>\n",
       "      <td>2641.055</td>\n",
       "      <td>the-substance</td>\n",
       "    </tr>\n",
       "    <tr>\n",
       "      <th>3</th>\n",
       "      <td>533535</td>\n",
       "      <td>Deadpool &amp; Wolverine</td>\n",
       "      <td>2024-07-24</td>\n",
       "      <td>A listless Wade Wilson toils away in civilian ...</td>\n",
       "      <td>7.700</td>\n",
       "      <td>4793</td>\n",
       "      <td>[28, 35, 878]</td>\n",
       "      <td>1975.796</td>\n",
       "      <td>deadpool-&amp;-wolverine</td>\n",
       "    </tr>\n",
       "    <tr>\n",
       "      <th>4</th>\n",
       "      <td>1034541</td>\n",
       "      <td>Terrifier 3</td>\n",
       "      <td>2024-10-09</td>\n",
       "      <td>Five years after surviving Art the Clown's Hal...</td>\n",
       "      <td>7.309</td>\n",
       "      <td>162</td>\n",
       "      <td>[27, 53]</td>\n",
       "      <td>1760.315</td>\n",
       "      <td>terrifier-3</td>\n",
       "    </tr>\n",
       "  </tbody>\n",
       "</table>\n",
       "</div>"
      ],
      "text/plain": [
       "   movie_id                 title release_date  \\\n",
       "0   1184918        The Wild Robot   2024-09-12   \n",
       "1    945961        Alien: Romulus   2024-08-13   \n",
       "2    933260         The Substance   2024-09-07   \n",
       "3    533535  Deadpool & Wolverine   2024-07-24   \n",
       "4   1034541           Terrifier 3   2024-10-09   \n",
       "\n",
       "                                            overview  rating  votes  \\\n",
       "0  After a shipwreck, an intelligent robot called...   8.633   1492   \n",
       "1  While scavenging the deep ends of a derelict s...   7.267   1868   \n",
       "2  A fading celebrity decides to use a black mark...   7.277    880   \n",
       "3  A listless Wade Wilson toils away in civilian ...   7.700   4793   \n",
       "4  Five years after surviving Art the Clown's Hal...   7.309    162   \n",
       "\n",
       "             genres  popularity           movie_title  \n",
       "0  [16, 878, 10751]    4950.682        the-wild-robot  \n",
       "1         [878, 27]    2982.392        alien:-romulus  \n",
       "2     [27, 18, 878]    2641.055         the-substance  \n",
       "3     [28, 35, 878]    1975.796  deadpool-&-wolverine  \n",
       "4          [27, 53]    1760.315           terrifier-3  "
      ]
     },
     "execution_count": 4,
     "metadata": {},
     "output_type": "execute_result"
    }
   ],
   "source": [
    "data.head()"
   ]
  },
  {
   "cell_type": "code",
   "execution_count": 5,
   "metadata": {},
   "outputs": [],
   "source": [
    "data['movie_year'] = data['release_date'].str.split('-').str[0]"
   ]
  },
  {
   "cell_type": "code",
   "execution_count": 6,
   "metadata": {},
   "outputs": [
    {
     "data": {
      "text/html": [
       "<div>\n",
       "<style scoped>\n",
       "    .dataframe tbody tr th:only-of-type {\n",
       "        vertical-align: middle;\n",
       "    }\n",
       "\n",
       "    .dataframe tbody tr th {\n",
       "        vertical-align: top;\n",
       "    }\n",
       "\n",
       "    .dataframe thead th {\n",
       "        text-align: right;\n",
       "    }\n",
       "</style>\n",
       "<table border=\"1\" class=\"dataframe\">\n",
       "  <thead>\n",
       "    <tr style=\"text-align: right;\">\n",
       "      <th></th>\n",
       "      <th>movie_id</th>\n",
       "      <th>title</th>\n",
       "      <th>release_date</th>\n",
       "      <th>overview</th>\n",
       "      <th>rating</th>\n",
       "      <th>votes</th>\n",
       "      <th>genres</th>\n",
       "      <th>popularity</th>\n",
       "      <th>movie_title</th>\n",
       "      <th>movie_year</th>\n",
       "    </tr>\n",
       "  </thead>\n",
       "  <tbody>\n",
       "    <tr>\n",
       "      <th>0</th>\n",
       "      <td>1184918</td>\n",
       "      <td>The Wild Robot</td>\n",
       "      <td>2024-09-12</td>\n",
       "      <td>After a shipwreck, an intelligent robot called...</td>\n",
       "      <td>8.633</td>\n",
       "      <td>1492</td>\n",
       "      <td>[16, 878, 10751]</td>\n",
       "      <td>4950.682</td>\n",
       "      <td>the-wild-robot</td>\n",
       "      <td>2024</td>\n",
       "    </tr>\n",
       "    <tr>\n",
       "      <th>1</th>\n",
       "      <td>945961</td>\n",
       "      <td>Alien: Romulus</td>\n",
       "      <td>2024-08-13</td>\n",
       "      <td>While scavenging the deep ends of a derelict s...</td>\n",
       "      <td>7.267</td>\n",
       "      <td>1868</td>\n",
       "      <td>[878, 27]</td>\n",
       "      <td>2982.392</td>\n",
       "      <td>alien:-romulus</td>\n",
       "      <td>2024</td>\n",
       "    </tr>\n",
       "    <tr>\n",
       "      <th>2</th>\n",
       "      <td>933260</td>\n",
       "      <td>The Substance</td>\n",
       "      <td>2024-09-07</td>\n",
       "      <td>A fading celebrity decides to use a black mark...</td>\n",
       "      <td>7.277</td>\n",
       "      <td>880</td>\n",
       "      <td>[27, 18, 878]</td>\n",
       "      <td>2641.055</td>\n",
       "      <td>the-substance</td>\n",
       "      <td>2024</td>\n",
       "    </tr>\n",
       "    <tr>\n",
       "      <th>3</th>\n",
       "      <td>533535</td>\n",
       "      <td>Deadpool &amp; Wolverine</td>\n",
       "      <td>2024-07-24</td>\n",
       "      <td>A listless Wade Wilson toils away in civilian ...</td>\n",
       "      <td>7.700</td>\n",
       "      <td>4793</td>\n",
       "      <td>[28, 35, 878]</td>\n",
       "      <td>1975.796</td>\n",
       "      <td>deadpool-&amp;-wolverine</td>\n",
       "      <td>2024</td>\n",
       "    </tr>\n",
       "    <tr>\n",
       "      <th>4</th>\n",
       "      <td>1034541</td>\n",
       "      <td>Terrifier 3</td>\n",
       "      <td>2024-10-09</td>\n",
       "      <td>Five years after surviving Art the Clown's Hal...</td>\n",
       "      <td>7.309</td>\n",
       "      <td>162</td>\n",
       "      <td>[27, 53]</td>\n",
       "      <td>1760.315</td>\n",
       "      <td>terrifier-3</td>\n",
       "      <td>2024</td>\n",
       "    </tr>\n",
       "  </tbody>\n",
       "</table>\n",
       "</div>"
      ],
      "text/plain": [
       "   movie_id                 title release_date  \\\n",
       "0   1184918        The Wild Robot   2024-09-12   \n",
       "1    945961        Alien: Romulus   2024-08-13   \n",
       "2    933260         The Substance   2024-09-07   \n",
       "3    533535  Deadpool & Wolverine   2024-07-24   \n",
       "4   1034541           Terrifier 3   2024-10-09   \n",
       "\n",
       "                                            overview  rating  votes  \\\n",
       "0  After a shipwreck, an intelligent robot called...   8.633   1492   \n",
       "1  While scavenging the deep ends of a derelict s...   7.267   1868   \n",
       "2  A fading celebrity decides to use a black mark...   7.277    880   \n",
       "3  A listless Wade Wilson toils away in civilian ...   7.700   4793   \n",
       "4  Five years after surviving Art the Clown's Hal...   7.309    162   \n",
       "\n",
       "             genres  popularity           movie_title movie_year  \n",
       "0  [16, 878, 10751]    4950.682        the-wild-robot       2024  \n",
       "1         [878, 27]    2982.392        alien:-romulus       2024  \n",
       "2     [27, 18, 878]    2641.055         the-substance       2024  \n",
       "3     [28, 35, 878]    1975.796  deadpool-&-wolverine       2024  \n",
       "4          [27, 53]    1760.315           terrifier-3       2024  "
      ]
     },
     "execution_count": 6,
     "metadata": {},
     "output_type": "execute_result"
    }
   ],
   "source": [
    "data.head()"
   ]
  },
  {
   "cell_type": "code",
   "execution_count": 7,
   "metadata": {},
   "outputs": [],
   "source": [
    "import re \n",
    "data['title_mod'] = data['title'].str.lower().str.replace(r'[^\\w\\s+]', '', regex=True)\n"
   ]
  },
  {
   "cell_type": "code",
   "execution_count": 8,
   "metadata": {},
   "outputs": [],
   "source": [
    "data['title_mod2'] = data['title'].str.lower().str.replace(r'[^\\w\\s+]', '', regex=True).str.replace(r'[-\\s]+', '-').str.strip('-')"
   ]
  },
  {
   "cell_type": "code",
   "execution_count": 9,
   "metadata": {},
   "outputs": [
    {
     "data": {
      "text/html": [
       "<div>\n",
       "<style scoped>\n",
       "    .dataframe tbody tr th:only-of-type {\n",
       "        vertical-align: middle;\n",
       "    }\n",
       "\n",
       "    .dataframe tbody tr th {\n",
       "        vertical-align: top;\n",
       "    }\n",
       "\n",
       "    .dataframe thead th {\n",
       "        text-align: right;\n",
       "    }\n",
       "</style>\n",
       "<table border=\"1\" class=\"dataframe\">\n",
       "  <thead>\n",
       "    <tr style=\"text-align: right;\">\n",
       "      <th></th>\n",
       "      <th>title</th>\n",
       "      <th>title_mod2</th>\n",
       "    </tr>\n",
       "  </thead>\n",
       "  <tbody>\n",
       "    <tr>\n",
       "      <th>3</th>\n",
       "      <td>Deadpool &amp; Wolverine</td>\n",
       "      <td>deadpool  wolverine</td>\n",
       "    </tr>\n",
       "  </tbody>\n",
       "</table>\n",
       "</div>"
      ],
      "text/plain": [
       "                  title           title_mod2\n",
       "3  Deadpool & Wolverine  deadpool  wolverine"
      ]
     },
     "execution_count": 9,
     "metadata": {},
     "output_type": "execute_result"
    }
   ],
   "source": [
    "data[data['title']=='Deadpool & Wolverine'][['title','title_mod2']]"
   ]
  },
  {
   "cell_type": "code",
   "execution_count": 10,
   "metadata": {},
   "outputs": [
    {
     "data": {
      "text/plain": [
       "1    alien romulus\n",
       "Name: title_mod2, dtype: object"
      ]
     },
     "execution_count": 10,
     "metadata": {},
     "output_type": "execute_result"
    }
   ],
   "source": [
    "data[data['title']=='Alien: Romulus']['title_mod2']"
   ]
  },
  {
   "cell_type": "code",
   "execution_count": 12,
   "metadata": {},
   "outputs": [
    {
     "data": {
      "text/plain": [
       "np.float64(20632.499999999996)"
      ]
     },
     "execution_count": 12,
     "metadata": {},
     "output_type": "execute_result"
    }
   ],
   "source": [
    "m =  data['votes'].quantile(0.9)\n",
    "m"
   ]
  },
  {
   "cell_type": "code",
   "execution_count": 14,
   "metadata": {},
   "outputs": [
    {
     "data": {
      "text/plain": [
       "(20, 12)"
      ]
     },
     "execution_count": 14,
     "metadata": {},
     "output_type": "execute_result"
    }
   ],
   "source": [
    "q_movies = data.copy().loc[data['votes'] >= m]\n",
    "q_movies.shape"
   ]
  },
  {
   "cell_type": "code",
   "execution_count": 1,
   "metadata": {},
   "outputs": [],
   "source": [
    "import requests\n",
    "from bs4 import BeautifulSoup\n",
    "\n",
    "valid_url = 'https://letterboxd.com/film/venom-the-last-dance/reviews/by/activity/'\n",
    "\n",
    "headers = {\n",
    "                'User-Agent': 'Mozilla/5.0 (Windows NT 10.0; Win64; x64) AppleWebKit/537.36'\n",
    "            }\n",
    "\n",
    "response = requests.get(valid_url, headers=headers)\n",
    "\n",
    "if response.status_code == 200:\n",
    "    soup = BeautifulSoup(response.text, 'html.parser')\n",
    "    \n",
    "    # Find all review containers\n",
    "    review_cards = soup.find_all('div', {'class': ['review-tile', 'film-detail-content']})\n",
    "\n",
    "\n",
    "    for card in review_cards[:5]: \n",
    "        username_elem = card.find('a', {'class': 'text-slug'})\n",
    "        if not username_elem:\n",
    "            username_elem = card.find('a', {'class': 'avatar'})  # Backup method"
   ]
  },
  {
   "cell_type": "code",
   "execution_count": 2,
   "metadata": {},
   "outputs": [
    {
     "data": {
      "text/plain": [
       "[<div class=\"film-detail-content\"> <div class=\"attribution-block\"> <p class=\"attribution\"> <span class=\"rating -green rated-5\"> ★★½ </span> <span class=\"content-metadata\"> <span class=\"date\"> <a class=\"context\" href=\"/stk5/film/venom-the-last-dance/1/\"> Watched by <strong class=\"name\">Sydney🚀</strong> </a> <span class=\"_nobr\">23 Oct 2024</span> </span> <a class=\"has-icon icon-comment icon-16 comment-count\" href=\"/stk5/film/venom-the-last-dance/1/\">43</a> </span> </p> </div> <div class=\"body-text -prose collapsible-text\" data-full-text-url=\"/s/full-text/viewing:698842970/\"> <p>Venom frog, venom fish, what’s next? Venom horse? The woke symbiote agenda is <a href=\"https://youtu.be/xs4bVYM-U_c?si=JINXea_HjKgqFtiL\" rel=\"nofollow\">poisoning your childrens minds</a></p> </div> <p class=\"like-link-target react-component -monotone\" data-component-class=\"globals.comps.LikeLinkComponent\" data-count=\"3402\" data-element-type=\"p\" data-format=\"svg\" data-likeable=\"true\" data-likeable-name=\"review\" data-likeable-uid=\"viewing:698842970\" data-likes-page=\"/stk5/film/venom-the-last-dance/1/likes/\" data-owner=\"STK5\"> <span class=\"svg-action -like\"></span> </p> </div>,\n",
       " <div class=\"film-detail-content\"> <div class=\"attribution-block\"> <p class=\"attribution\"> <span class=\"has-icon icon-16 icon-liked\"></span> <span class=\"content-metadata\"> <span class=\"date\"> <a class=\"context\" href=\"/colonelmortimer/film/venom-the-last-dance/\"> Rewatched by <strong class=\"name\">matt lynch</strong> </a> <span class=\"_nobr\">22 Oct 2024</span> </span> </span> </p> </div> <div class=\"body-text -prose collapsible-text\" data-full-text-url=\"/s/full-text/viewing:698479509/\"> <p>Not remotely a good movie, <a href=\"https://inreviewonline.com/2024/10/24/venom-the-last-dance/\" rel=\"nofollow\">not remotely a bad time.</a></p> </div> <p class=\"like-link-target react-component -monotone\" data-component-class=\"globals.comps.LikeLinkComponent\" data-count=\"2224\" data-element-type=\"p\" data-format=\"svg\" data-likeable=\"true\" data-likeable-name=\"review\" data-likeable-uid=\"viewing:698479509\" data-likes-page=\"/colonelmortimer/film/venom-the-last-dance/likes/\" data-owner=\"colonelmortimer\"> <span class=\"svg-action -like\"></span> </p> </div>,\n",
       " <div class=\"film-detail-content\"> <div class=\"attribution-block\"> <p class=\"attribution\"> <span class=\"rating -green rated-6\"> ★★★ </span> <span class=\"content-metadata\"> <span class=\"date\"> <a class=\"context\" href=\"/draper_/film/venom-the-last-dance/\"> Watched by <strong class=\"name\">anto</strong> </a> <span class=\"_nobr\">22 Oct 2024</span> </span> <a class=\"has-icon icon-comment icon-16 comment-count\" href=\"/draper_/film/venom-the-last-dance/\">18</a> </span> </p> </div> <div class=\"body-text -prose collapsible-text\" data-full-text-url=\"/s/full-text/viewing:698033663/\"> <p>this trilogy has to be the gayest trilogy ever made (this third movie is the best of the three by the way)</p> </div> <p class=\"like-link-target react-component -monotone\" data-component-class=\"globals.comps.LikeLinkComponent\" data-count=\"1991\" data-element-type=\"p\" data-format=\"svg\" data-likeable=\"true\" data-likeable-name=\"review\" data-likeable-uid=\"viewing:698033663\" data-likes-page=\"/draper_/film/venom-the-last-dance/likes/\" data-owner=\"Draper_\"> <span class=\"svg-action -like\"></span> </p> </div>,\n",
       " <div class=\"film-detail-content\"> <div class=\"attribution-block\"> <p class=\"attribution\"> <span class=\"rating -green rated-6\"> ★★★ </span> <span class=\"content-metadata\"> <span class=\"date\"> <a class=\"context\" href=\"/i_am_shego/film/venom-the-last-dance/\"> Watched by <strong class=\"name\">i_am_shego</strong> </a> <span class=\"_nobr\">22 Oct 2024</span> </span> <a class=\"has-icon icon-comment icon-16 comment-count\" href=\"/i_am_shego/film/venom-the-last-dance/\">34</a> </span> </p> </div> <div class=\"body-text -prose collapsible-text\" data-full-text-url=\"/s/full-text/viewing:697945301/\"> <p>venom’s on my “hear me out” cake</p> </div> <p class=\"like-link-target react-component -monotone\" data-component-class=\"globals.comps.LikeLinkComponent\" data-count=\"1980\" data-element-type=\"p\" data-format=\"svg\" data-likeable=\"true\" data-likeable-name=\"review\" data-likeable-uid=\"viewing:697945301\" data-likes-page=\"/i_am_shego/film/venom-the-last-dance/likes/\" data-owner=\"i_am_shego\"> <span class=\"svg-action -like\"></span> </p> </div>,\n",
       " <div class=\"film-detail-content\"> <div class=\"attribution-block\"> <p class=\"attribution\"> <span class=\"rating -green rated-8\"> ★★★★ </span> <span class=\"content-metadata\"> <span class=\"date\"> <a class=\"context\" href=\"/gabbypm729/film/venom-the-last-dance/\"> Watched by <strong class=\"name\">Gabby</strong> </a> <span class=\"_nobr\">22 Oct 2024</span> </span> <a class=\"has-icon icon-comment icon-16 comment-count\" href=\"/gabbypm729/film/venom-the-last-dance/\">8</a> </span> </p> </div> <div class=\"body-text -prose collapsible-text\" data-full-text-url=\"/s/full-text/viewing:698379659/\"> <p>The fuck ass maroon 5 montage was lowkey top 5 moments of the year</p> </div> <p class=\"like-link-target react-component -monotone\" data-component-class=\"globals.comps.LikeLinkComponent\" data-count=\"1908\" data-element-type=\"p\" data-format=\"svg\" data-likeable=\"true\" data-likeable-name=\"review\" data-likeable-uid=\"viewing:698379659\" data-likes-page=\"/gabbypm729/film/venom-the-last-dance/likes/\" data-owner=\"gabbypm729\"> <span class=\"svg-action -like\"></span> </p> </div>,\n",
       " <div class=\"film-detail-content\"> <div class=\"attribution-block\"> <p class=\"attribution\"> <span class=\"rating -green rated-7\"> ★★★½ </span> <span class=\"has-icon icon-16 icon-liked\"></span> <span class=\"content-metadata\"> <span class=\"date\"> <a class=\"context\" href=\"/milanabor/film/venom-the-last-dance/\"> Watched by <strong class=\"name\">millie 𝜗𝜚</strong> </a> <span class=\"_nobr\">24 Oct 2024</span> </span> <a class=\"has-icon icon-comment icon-16 comment-count\" href=\"/milanabor/film/venom-the-last-dance/\">3</a> </span> </p> </div> <div class=\"body-text -prose collapsible-text\" data-full-text-url=\"/s/full-text/viewing:698880754/\"> <p>i loved the part where Eddie became a mermaid</p> </div> <p class=\"like-link-target react-component -monotone\" data-component-class=\"globals.comps.LikeLinkComponent\" data-count=\"1334\" data-element-type=\"p\" data-format=\"svg\" data-likeable=\"true\" data-likeable-name=\"review\" data-likeable-uid=\"viewing:698880754\" data-likes-page=\"/milanabor/film/venom-the-last-dance/likes/\" data-owner=\"milanabor\"> <span class=\"svg-action -like\"></span> </p> </div>,\n",
       " <div class=\"film-detail-content\"> <div class=\"attribution-block\"> <p class=\"attribution\"> <span class=\"rating -green rated-3\"> ★½ </span> <span class=\"content-metadata\"> <span class=\"date\"> <a class=\"context\" href=\"/sknnysoul/film/venom-the-last-dance/\"> Watched by <strong class=\"name\">noen</strong> </a> <span class=\"_nobr\">24 Oct 2024</span> </span> <a class=\"has-icon icon-comment icon-16 comment-count\" href=\"/sknnysoul/film/venom-the-last-dance/\">1</a> </span> </p> </div> <div class=\"body-text -prose collapsible-text\" data-full-text-url=\"/s/full-text/viewing:699536455/\"> <p>Go Sony give us nothing!!</p> </div> <p class=\"like-link-target react-component -monotone\" data-component-class=\"globals.comps.LikeLinkComponent\" data-count=\"999\" data-element-type=\"p\" data-format=\"svg\" data-likeable=\"true\" data-likeable-name=\"review\" data-likeable-uid=\"viewing:699536455\" data-likes-page=\"/sknnysoul/film/venom-the-last-dance/likes/\" data-owner=\"sknnysoul\"> <span class=\"svg-action -like\"></span> </p> </div>,\n",
       " <div class=\"film-detail-content\"> <div class=\"attribution-block\"> <p class=\"attribution\"> <span class=\"rating -green rated-7\"> ★★★½ </span> <span class=\"has-icon icon-16 icon-liked\"></span> <span class=\"content-metadata\"> <span class=\"date\"> <a class=\"context\" href=\"/kumid/film/venom-the-last-dance/\"> Watched by <strong class=\"name\">kumi</strong> </a> <span class=\"_nobr\">22 Oct 2024</span> </span> <a class=\"has-icon icon-comment icon-16 comment-count\" href=\"/kumid/film/venom-the-last-dance/\">13</a> </span> </p> </div> <div class=\"body-text -prose collapsible-text\" data-full-text-url=\"/s/full-text/viewing:698395733/\"> <p>what letter in lgbt is this</p> </div> <p class=\"like-link-target react-component -monotone\" data-component-class=\"globals.comps.LikeLinkComponent\" data-count=\"1293\" data-element-type=\"p\" data-format=\"svg\" data-likeable=\"true\" data-likeable-name=\"review\" data-likeable-uid=\"viewing:698395733\" data-likes-page=\"/kumid/film/venom-the-last-dance/likes/\" data-owner=\"kumid\"> <span class=\"svg-action -like\"></span> </p> </div>,\n",
       " <div class=\"film-detail-content\"> <div class=\"attribution-block\"> <p class=\"attribution\"> <span class=\"rating -green rated-5\"> ★★½ </span> <span class=\"content-metadata\"> <span class=\"date\"> <a class=\"context\" href=\"/chatterb0xd/film/venom-the-last-dance/\"> Watched by <strong class=\"name\">Preet</strong> </a> <span class=\"_nobr\">24 Oct 2024</span> </span> <a class=\"has-icon icon-comment icon-16 comment-count\" href=\"/chatterb0xd/film/venom-the-last-dance/\">6</a> </span> </p> </div> <div class=\"body-text -prose collapsible-text\" data-full-text-url=\"/s/full-text/viewing:699337751/\"> <p>probably my second favourite volkswagen bus family after little miss sunshine.</p> </div> <p class=\"like-link-target react-component -monotone\" data-component-class=\"globals.comps.LikeLinkComponent\" data-count=\"866\" data-element-type=\"p\" data-format=\"svg\" data-likeable=\"true\" data-likeable-name=\"review\" data-likeable-uid=\"viewing:699337751\" data-likes-page=\"/chatterb0xd/film/venom-the-last-dance/likes/\" data-owner=\"Chatterb0xd\"> <span class=\"svg-action -like\"></span> </p> </div>,\n",
       " <div class=\"film-detail-content\"> <div class=\"attribution-block\"> <p class=\"attribution\"> <span class=\"rating -green rated-7\"> ★★★½ </span> <span class=\"content-metadata\"> <span class=\"date\"> <a class=\"context\" href=\"/falgabara/film/venom-the-last-dance/\"> Watched by <strong class=\"name\">Bara Prima</strong> </a> <span class=\"_nobr\">23 Oct 2024</span> </span> <a class=\"has-icon icon-comment icon-16 comment-count\" href=\"/falgabara/film/venom-the-last-dance/\">8</a> </span> </p> </div> <div class=\"body-text -prose collapsible-text\" data-full-text-url=\"/s/full-text/viewing:698531792/\"> <p>never have I ever thought I would cry watching Venom movie<br/>THAT MAROON 5 SONG I’M CRYING 😭😭😭</p> </div> <p class=\"like-link-target react-component -monotone\" data-component-class=\"globals.comps.LikeLinkComponent\" data-count=\"1010\" data-element-type=\"p\" data-format=\"svg\" data-likeable=\"true\" data-likeable-name=\"review\" data-likeable-uid=\"viewing:698531792\" data-likes-page=\"/falgabara/film/venom-the-last-dance/likes/\" data-owner=\"falgabara\"> <span class=\"svg-action -like\"></span> </p> </div>,\n",
       " <div class=\"film-detail-content\"> <div class=\"attribution-block\"> <p class=\"attribution\"> <span class=\"rating -green rated-10\"> ★★★★★ </span> <span class=\"has-icon icon-16 icon-liked\"></span> <span class=\"content-metadata\"> <span class=\"date\"> <a class=\"context\" href=\"/cinemanya/film/venom-the-last-dance/\"> Watched by <strong class=\"name\">lola 🧛‍</strong> </a> <span class=\"_nobr\">23 Oct 2024</span> </span> <a class=\"has-icon icon-comment icon-16 comment-count\" href=\"/cinemanya/film/venom-the-last-dance/\">2</a> </span> </p> </div> <div class=\"body-text -prose collapsible-text\" data-full-text-url=\"/s/full-text/viewing:698531295/\"> <p>SymBrock is so real that they had to put a ship edit in the movie.</p><p>also love the thelma and louise reference</p> </div> <p class=\"like-link-target react-component -monotone\" data-component-class=\"globals.comps.LikeLinkComponent\" data-count=\"990\" data-element-type=\"p\" data-format=\"svg\" data-likeable=\"true\" data-likeable-name=\"review\" data-likeable-uid=\"viewing:698531295\" data-likes-page=\"/cinemanya/film/venom-the-last-dance/likes/\" data-owner=\"cinemanya\"> <span class=\"svg-action -like\"></span> </p> </div>,\n",
       " <div class=\"film-detail-content\"> <div class=\"attribution-block\"> <p class=\"attribution\"> <span class=\"rating -green rated-6\"> ★★★ </span> <span class=\"content-metadata\"> <span class=\"date\"> <a class=\"context\" href=\"/timtamtitus/film/venom-the-last-dance/\"> Watched by <strong class=\"name\">timtamtitus</strong> </a> <span class=\"_nobr\">22 Oct 2024</span> </span> <a class=\"has-icon icon-comment icon-16 comment-count\" href=\"/timtamtitus/film/venom-the-last-dance/\">6</a> </span> </p> </div> <div class=\"body-text -prose collapsible-text\" data-full-text-url=\"/s/full-text/viewing:697945976/\"> <p>Mrs Chen deserves her own trilogy</p> </div> <p class=\"like-link-target react-component -monotone\" data-component-class=\"globals.comps.LikeLinkComponent\" data-count=\"916\" data-element-type=\"p\" data-format=\"svg\" data-likeable=\"true\" data-likeable-name=\"review\" data-likeable-uid=\"viewing:697945976\" data-likes-page=\"/timtamtitus/film/venom-the-last-dance/likes/\" data-owner=\"timtamtitus\"> <span class=\"svg-action -like\"></span> </p> </div>]"
      ]
     },
     "execution_count": 2,
     "metadata": {},
     "output_type": "execute_result"
    }
   ],
   "source": [
    "review_cards"
   ]
  },
  {
   "cell_type": "code",
   "execution_count": 8,
   "metadata": {},
   "outputs": [
    {
     "name": "stdout",
     "output_type": "stream",
     "text": [
      "sydney\n",
      "matt_lynch\n",
      "anto\n",
      "i_am_shego\n",
      "gabby\n"
     ]
    }
   ],
   "source": [
    "import re \n",
    "for card in review_cards[:5]: \n",
    "    username_elem = card.find('strong', {'class': 'name'})\n",
    "    \n",
    "    \n",
    "# Updated username extraction\n",
    "    username_elem = card.find('strong', {'class': 'name'})\n",
    "    if username_elem:\n",
    "        # Get the username text and clean it\n",
    "        username = username_elem.get_text().strip()\n",
    "        # Remove any emojis or special characters, keep only alphanumeric and some special chars\n",
    "        username = re.sub(r'[^\\w\\s@._-]', '', username)\n",
    "        # Replace spaces with underscores and convert to lowercase for consistency\n",
    "        username = username.replace(' ', '_').lower()\n",
    "    else:\n",
    "        print(f\"Debug: Could not find username for review. HTML structure: {card.prettify()}\")\n",
    "        username = \"anonymous\"\n",
    "    print(username)"
   ]
  },
  {
   "cell_type": "code",
   "execution_count": null,
   "metadata": {},
   "outputs": [],
   "source": []
  }
 ],
 "metadata": {
  "kernelspec": {
   "display_name": "recom_env",
   "language": "python",
   "name": "python3"
  },
  "language_info": {
   "codemirror_mode": {
    "name": "ipython",
    "version": 3
   },
   "file_extension": ".py",
   "mimetype": "text/x-python",
   "name": "python",
   "nbconvert_exporter": "python",
   "pygments_lexer": "ipython3",
   "version": "3.10.14"
  }
 },
 "nbformat": 4,
 "nbformat_minor": 2
}
